{
 "cells": [
  {
   "cell_type": "code",
   "execution_count": 2,
   "id": "95826c56",
   "metadata": {},
   "outputs": [],
   "source": [
    "import numpy as np\n",
    "import random"
   ]
  },
  {
   "cell_type": "code",
   "execution_count": 36,
   "id": "af45a527",
   "metadata": {},
   "outputs": [],
   "source": [
    "class Operator:\n",
    "    def _init_(self, row, col):\n",
    "        self.row=row\n",
    "        self.col=col\n",
    "operator=Operator()\n",
    "        \n",
    "class State:\n",
    "    def _init_(self, cell):\n",
    "        self.cell=cell\n",
    "        \n",
    "cell=[[]]\n",
    "cell=[[\"0\" for i in range(5)] for i in range(5)]\n",
    "\n",
    "current_State=State() \n",
    "current_State.cell=cell"
   ]
  },
  {
   "cell_type": "code",
   "execution_count": 42,
   "id": "ca9948ab",
   "metadata": {},
   "outputs": [],
   "source": [
    "BLANK=\"0\"\n",
    "USER_WHITE=\"W\"\n",
    "USER_BLACK=\"B\"\n"
   ]
  },
  {
   "cell_type": "code",
   "execution_count": 38,
   "id": "e73737de",
   "metadata": {},
   "outputs": [
    {
     "name": "stdout",
     "output_type": "stream",
     "text": [
      "[['0', '0', '0', '0', '0'], ['0', '0', '0', '0', '0'], ['0', '0', '0', '0', '0'], ['0', '0', '0', '0', '0'], ['0', '0', '0', '0', '0']]\n"
     ]
    }
   ],
   "source": [
    "cell[1][3]=\"0\"\n",
    "print(cell)"
   ]
  },
  {
   "cell_type": "code",
   "execution_count": 39,
   "id": "778edf70",
   "metadata": {},
   "outputs": [
    {
     "name": "stdout",
     "output_type": "stream",
     "text": [
      "--------------------------------\n",
      "| 3BM | 3BM | 3BM | 3BM | 3BM |\n",
      "--------------------------------\n",
      "| 3BM | 3BM | 3BM | 3BM | 3BM |\n",
      "--------------------------------\n",
      "| 3BM | 3BM | 3BM | 3BM | 3BM |\n",
      "--------------------------------\n",
      "| 3BM | 3BM | 3BM | 3BM | 3BM |\n",
      "--------------------------------\n",
      "| 3BM | 3BM | 3BM | 3BM | 3BM |\n",
      "--------------------------------\n"
     ]
    }
   ],
   "source": [
    "def print_State(state):\n",
    "    \n",
    "    for i in range(32):\n",
    "        print(\"-\", end=\"\")\n",
    "    print() \n",
    "    for i in range(5):\n",
    "        for j in range(5):\n",
    "            if state.cell[i][j]==BLANK:\n",
    "                print(\"| 3BM \", end=\"\")\n",
    "#             elif state.cell[i][j]==1:\n",
    "#                 print(\"| 3W  \", end=\"\")\n",
    "#             elif state.cell[i][j]==USER_BLUE:\n",
    "#                 print(\"| B \", end=\"\")                \n",
    "#             elif state.cell[i][j]==PROGRAM_WHITE:\n",
    "#                 print(\"| W \", end=\"\")\n",
    "#             elif state.cell[i][j]==PROGRAM_YELLOW:\n",
    "#                 print(\"| Y \", end=\"\")\n",
    "                \n",
    "        print(\"|\")\n",
    "        for i in range(32):\n",
    "            print(\"-\", end=\"\") \n",
    "        print()  \n",
    "        \n",
    "print_State(current_State)"
   ]
  },
  {
   "cell_type": "code",
   "execution_count": 17,
   "id": "121289a7",
   "metadata": {},
   "outputs": [],
   "source": [
    "def makeMove(state, operator, move):\n",
    "#     if not isValidMove(state, operator):\n",
    "#         return 0\n",
    "    state.cell[operator.row][operator.col]=move"
   ]
  },
  {
   "cell_type": "code",
   "execution_count": 43,
   "id": "90f2cace",
   "metadata": {},
   "outputs": [
    {
     "name": "stdout",
     "output_type": "stream",
     "text": [
      "Please input your move!\n",
      "Row (1-5): 1\n",
      "Col (1-5): 1\n",
      "What dice ?1\n",
      "1WM\n"
     ]
    }
   ],
   "source": [
    "print(\"Please input your move!\")\n",
    "row=int(input(\"Row (1-5): \"))-1\n",
    "col=int(input(\"Col (1-5): \"))-1\n",
    "\n",
    "operator.row=row\n",
    "operator.col=col\n",
    "\n",
    "turn=USER_WHITE\n",
    "\n",
    "diceNum=input(\"What dice ?\")\n",
    "move=\"\"\n",
    "move+=diceNum;\n",
    "\n",
    "if(turn==USER_WHITE):\n",
    "    move+=USER_WHITE\n",
    "    move+=\"M\"\n",
    "\n",
    "makeMove(current_State,operator, move) "
   ]
  },
  {
   "cell_type": "code",
   "execution_count": 44,
   "id": "0de09c6b",
   "metadata": {},
   "outputs": [
    {
     "name": "stdout",
     "output_type": "stream",
     "text": [
      "--------------------------------\n",
      "| 3BM | 3BM | 3BM | 3BM |\n",
      "--------------------------------\n",
      "| 3BM | 3BM | 3BM | 3BM | 3BM |\n",
      "--------------------------------\n",
      "| 3BM | 3BM | 3BM | 3BM | 3BM |\n",
      "--------------------------------\n",
      "| 3BM | 3BM | 3BM | 3BM | 3BM |\n",
      "--------------------------------\n",
      "| 3BM | 3BM | 3BM | 3BM | 3BM |\n",
      "--------------------------------\n"
     ]
    }
   ],
   "source": [
    "print_State(current_State)"
   ]
  },
  {
   "cell_type": "code",
   "execution_count": null,
   "id": "eaf2d318",
   "metadata": {},
   "outputs": [],
   "source": []
  }
 ],
 "metadata": {
  "kernelspec": {
   "display_name": "Python 3",
   "language": "python",
   "name": "python3"
  },
  "language_info": {
   "codemirror_mode": {
    "name": "ipython",
    "version": 3
   },
   "file_extension": ".py",
   "mimetype": "text/x-python",
   "name": "python",
   "nbconvert_exporter": "python",
   "pygments_lexer": "ipython3",
   "version": "3.8.7"
  }
 },
 "nbformat": 4,
 "nbformat_minor": 5
}
