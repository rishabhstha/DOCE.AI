{
 "cells": [
  {
   "cell_type": "code",
   "execution_count": 1,
   "id": "95826c56",
   "metadata": {},
   "outputs": [],
   "source": [
    "import numpy as np\n",
    "import random"
   ]
  },
  {
   "cell_type": "code",
   "execution_count": 2,
   "id": "af45a527",
   "metadata": {},
   "outputs": [],
   "source": [
    "class Operator:\n",
    "    def _init_(self, row, col):\n",
    "        self.row=row\n",
    "        self.col=col\n",
    "operator=Operator()\n",
    "\n",
    "class PreviousMove:\n",
    "    def _init_(self, row, col, turn):\n",
    "        self.row=row\n",
    "        self.col=col\n",
    "        self.turn=turn\n",
    "\n",
    "\n",
    "class State:\n",
    "    def _init_(self, cell):\n",
    "        self.cell=cell\n",
    "        \n"
   ]
  },
  {
   "cell_type": "code",
   "execution_count": 3,
   "id": "69d79127",
   "metadata": {},
   "outputs": [],
   "source": [
    "cell=[[]]\n",
    "cell=[[\"0\" for i in range(5)] for i in range(5)]\n",
    "\n",
    "current_State=State() \n",
    "current_State.cell=cell"
   ]
  },
  {
   "cell_type": "code",
   "execution_count": 4,
   "id": "ca9948ab",
   "metadata": {},
   "outputs": [],
   "source": [
    "BLANK=\"0\"\n",
    "USER_WHITE=\"W\"\n",
    "USER_BLACK=\"B\"\n"
   ]
  },
  {
   "cell_type": "code",
   "execution_count": 5,
   "id": "e73737de",
   "metadata": {},
   "outputs": [
    {
     "name": "stdout",
     "output_type": "stream",
     "text": [
      "[['0', '0', '0', '0', '0'], ['0', '0', '0', '0', '0'], ['0', '0', '0', '0', '0'], ['0', '0', '0', '0', '0'], ['0', '0', '0', '0', '0']]\n"
     ]
    }
   ],
   "source": [
    "cell[1][3]=\"0\"\n",
    "print(cell)"
   ]
  },
  {
   "cell_type": "code",
   "execution_count": 6,
   "id": "778edf70",
   "metadata": {},
   "outputs": [
    {
     "name": "stdout",
     "output_type": "stream",
     "text": [
      "--------------------------------\n",
      "|     |     |     |     |     |\n",
      "--------------------------------\n",
      "|     |     |     |     |     |\n",
      "--------------------------------\n",
      "|     |     |     |     |     |\n",
      "--------------------------------\n",
      "|     |     |     |     |     |\n",
      "--------------------------------\n",
      "|     |     |     |     |     |\n",
      "--------------------------------\n"
     ]
    }
   ],
   "source": [
    "def print_State(state):\n",
    "    \n",
    "    for i in range(32):\n",
    "        print(\"-\", end=\"\")\n",
    "    print() \n",
    "    for i in range(5):\n",
    "        for j in range(5):\n",
    "            if state.cell[i][j]==BLANK:\n",
    "                print(\"|     \",end=\"\")\n",
    "            else:\n",
    "                print(\"| \"+state.cell[i][j]+\" \", end=\"\")\n",
    "#             elif state.cell[i][j]==1:\n",
    "#                 print(\"| 3W  \", end=\"\")\n",
    "#             elif state.cell[i][j]==USER_BLUE:\n",
    "#                 print(\"| B \", end=\"\")                \n",
    "#             elif state.cell[i][j]==PROGRAM_WHITE:\n",
    "#                 print(\"| W \", end=\"\")\n",
    "#             elif state.cell[i][j]==PROGRAM_YELLOW:\n",
    "#                 print(\"| Y \", end=\"\")\n",
    "                \n",
    "        print(\"|\")\n",
    "        for i in range(32):\n",
    "            print(\"-\", end=\"\") \n",
    "        print()  \n",
    "        \n",
    "print_State(current_State)"
   ]
  },
  {
   "cell_type": "code",
   "execution_count": 7,
   "id": "121289a7",
   "metadata": {},
   "outputs": [],
   "source": [
    "def makeMove(state, operator, move):\n",
    "#     if not isValidMove(state, operator):\n",
    "#         return 0\n",
    "    state.cell[operator.row][operator.col]=move"
   ]
  },
  {
   "cell_type": "code",
   "execution_count": 8,
   "id": "82667a34",
   "metadata": {},
   "outputs": [],
   "source": [
    "def removeMarker(state, operator):\n",
    "    cellValue=state.cell[operator.row][operator.col]\n",
    "    state.cell[operator.row][operator.col]=cellValue[0]+cellValue[1]+\" \""
   ]
  },
  {
   "cell_type": "code",
   "execution_count": null,
   "id": "90f2cace",
   "metadata": {},
   "outputs": [
    {
     "name": "stdout",
     "output_type": "stream",
     "text": [
      "White's Turn\n",
      "Please input your move!\n",
      "Row (1-5): 1\n",
      "Col (1-5): 1\n",
      "What dice? (1-6): 2\n",
      "--------------------------------\n",
      "| 2WM |     |     |     |     |\n",
      "--------------------------------\n",
      "|     |     |     |     |     |\n",
      "--------------------------------\n",
      "|     |     |     |     |     |\n",
      "--------------------------------\n",
      "|     |     |     |     |     |\n",
      "--------------------------------\n",
      "|     |     |     |     |     |\n",
      "--------------------------------\n",
      "Black's Turn\n",
      "Please input your move!\n",
      "Row (1-5): 1\n",
      "Col (1-5): 1\n",
      "What dice? (1-6): 1\n",
      "Not a valid move! Please tell your move again!\n",
      "Black's Turn\n",
      "Please input your move!\n",
      "Row (1-5): 2\n",
      "Col (1-5): 1\n",
      "What dice? (1-6): 3\n",
      "--------------------------------\n",
      "| 2WM |     |     |     |     |\n",
      "--------------------------------\n",
      "| 3BM |     |     |     |     |\n",
      "--------------------------------\n",
      "|     |     |     |     |     |\n",
      "--------------------------------\n",
      "|     |     |     |     |     |\n",
      "--------------------------------\n",
      "|     |     |     |     |     |\n",
      "--------------------------------\n",
      "White's Turn\n",
      "Please input your move!\n",
      "Row (1-5): 1\n",
      "Col (1-5): 2\n",
      "What dice? (1-6): 3\n",
      "[['2WM' '0' '0' '0' '0']\n",
      " ['3BM' '0' '0' '0' '0']\n",
      " ['0' '0' '0' '0' '0']\n",
      " ['0' '0' '0' '0' '0']\n",
      " ['0' '0' '0' '0' '0']]\n",
      "Not a valid move! Please tell another move!\n",
      "White's Turn\n",
      "Please input your move!\n",
      "Row (1-5): 3\n",
      "Col (1-5): 1\n",
      "What dice? (1-6): 2\n",
      "[['2WM' '0' '0' '0' '0']\n",
      " ['3BM' '0' '0' '0' '0']\n",
      " ['0' '0' '0' '0' '0']\n",
      " ['0' '0' '0' '0' '0']\n",
      " ['0' '0' '0' '0' '0']]\n",
      "--------------------------------\n",
      "| 2W  |     |     |     |     |\n",
      "--------------------------------\n",
      "| 3BM |     |     |     |     |\n",
      "--------------------------------\n",
      "| 2WM |     |     |     |     |\n",
      "--------------------------------\n",
      "|     |     |     |     |     |\n",
      "--------------------------------\n",
      "|     |     |     |     |     |\n",
      "--------------------------------\n",
      "Black's Turn\n",
      "Please input your move!\n",
      "Row (1-5): 2\n",
      "Col (1-5): 2\n",
      "What dice? (1-6): 1\n",
      "[['2W ' '0' '0' '0' '0']\n",
      " ['3BM' '0' '0' '0' '0']\n",
      " ['2WM' '0' '0' '0' '0']\n",
      " ['0' '0' '0' '0' '0']\n",
      " ['0' '0' '0' '0' '0']]\n",
      "Not a valid move! Please tell your move again!\n",
      "Black's Turn\n",
      "Please input your move!\n",
      "Row (1-5): 2\n",
      "Col (1-5): 3\n",
      "What dice? (1-6): 5\n",
      "[['2W ' '0' '0' '0' '0']\n",
      " ['3BM' '0' '0' '0' '0']\n",
      " ['2WM' '0' '0' '0' '0']\n",
      " ['0' '0' '0' '0' '0']\n",
      " ['0' '0' '0' '0' '0']]\n",
      "--------------------------------\n",
      "| 2W  |     |     |     |     |\n",
      "--------------------------------\n",
      "| 3B  |     | 5BM |     |     |\n",
      "--------------------------------\n",
      "| 2WM |     |     |     |     |\n",
      "--------------------------------\n",
      "|     |     |     |     |     |\n",
      "--------------------------------\n",
      "|     |     |     |     |     |\n",
      "--------------------------------\n",
      "White's Turn\n",
      "Please input your move!\n"
     ]
    }
   ],
   "source": [
    "prev_White=PreviousMove()\n",
    "prev_Black=PreviousMove()\n",
    "\n",
    "#Initializing to check for the first step\n",
    "prev_White.row=-1\n",
    "prev_Black.row=-1\n",
    "\n",
    "turn=USER_WHITE\n",
    "countTurn1=0\n",
    "countTurn2=0\n",
    "\n",
    "while True:\n",
    "    \n",
    "    if(turn==USER_WHITE):\n",
    "        print(\"White's Turn\")\n",
    "        print(\"Please input your move!\")\n",
    "        row=int(input(\"Row (1-5): \"))-1\n",
    "        col=int(input(\"Col (1-5): \"))-1\n",
    "\n",
    "        operator.row=row\n",
    "        operator.col=col\n",
    "\n",
    "\n",
    "        diceNum=input(\"What dice? (1-6): \")\n",
    "        move=\"\"\n",
    "        move+=diceNum;\n",
    "\n",
    "        if(turn==USER_WHITE):\n",
    "            move+=USER_WHITE\n",
    "            move+=\"M\"\n",
    "\n",
    "\n",
    "        if isValidMove(current_State, operator, turn, prev_White):\n",
    "            makeMove(current_State,operator, move) \n",
    "\n",
    "        # Removing marker from previous move\n",
    "            if countTurn1!=0:\n",
    "                operator.row=prev_White.row\n",
    "                operator.col=prev_White.col\n",
    "                removeMarker(current_State, operator)\n",
    "\n",
    "            # Tracking previous move\n",
    "            prev_White.row=row\n",
    "            prev_White.col=col\n",
    "            prev_White.turn=turn\n",
    "\n",
    "            print_State(current_State)\n",
    "            countTurn1+=1\n",
    "            turn=USER_BLACK\n",
    "            \n",
    "        else:\n",
    "            print(\"Not a valid move! Please tell another move!\")\n",
    "                \n",
    "        \n",
    "        \n",
    "    \n",
    "    elif(turn==USER_BLACK):\n",
    "        \n",
    "        print(\"Black's Turn\")\n",
    "        print(\"Please input your move!\")\n",
    "        row=int(input(\"Row (1-5): \"))-1\n",
    "        col=int(input(\"Col (1-5): \"))-1\n",
    "\n",
    "        operator.row=row\n",
    "        operator.col=col\n",
    "\n",
    "        diceNum=input(\"What dice? (1-6): \")\n",
    "        move=\"\"\n",
    "        move+=diceNum;\n",
    "\n",
    "        if(turn==USER_BLACK):\n",
    "            move+=USER_BLACK\n",
    "            move+=\"M\"\n",
    "\n",
    "\n",
    "        if isValidMove(current_State, operator, turn, prev_Black):\n",
    "            makeMove(current_State,operator, move)\n",
    "        \n",
    "        # Removing marker from previous move\n",
    "            if countTurn2!=0:\n",
    "                operator.row=prev_Black.row\n",
    "                operator.col=prev_Black.col\n",
    "                removeMarker(current_State, operator)\n",
    "\n",
    "            # Tracking previous move\n",
    "            prev_Black.row=row\n",
    "            prev_Black.col=col\n",
    "            prev_Black.turn=turn\n",
    "\n",
    "            print_State(current_State)\n",
    "            countTurn2+=1\n",
    "\n",
    "            turn=USER_WHITE\n",
    "        \n",
    "        else:\n",
    "            print(\"Not a valid move! Please tell your move again!\")\n",
    "        \n",
    "        \n",
    "\n"
   ]
  },
  {
   "cell_type": "code",
   "execution_count": 55,
   "id": "e1370d40",
   "metadata": {},
   "outputs": [],
   "source": [
    "testOp=Operator()\n",
    "testOp.row=2\n",
    "testOp.col=4\n",
    "\n",
    "testPrev=PreviousMove()\n",
    "testPrev.row=2\n",
    "testPrev.col=2\n",
    "testPrev.turn=USER_WHITE\n",
    "\n"
   ]
  },
  {
   "cell_type": "code",
   "execution_count": 56,
   "id": "f767c821",
   "metadata": {},
   "outputs": [
    {
     "name": "stdout",
     "output_type": "stream",
     "text": [
      "[['0' '0' '0' '0' '0']\n",
      " ['0' '0' '0' '0' '0']\n",
      " ['0' '0' '0' '0' '0']\n",
      " ['0' '0' '0' '0' '0']\n",
      " ['0' '0' '0' '0' '0']]\n"
     ]
    },
    {
     "data": {
      "text/plain": [
       "1"
      ]
     },
     "execution_count": 56,
     "metadata": {},
     "output_type": "execute_result"
    }
   ],
   "source": [
    "\n",
    "\n",
    "def isValidMove(state,operator, userType, previousMove):\n",
    "    \n",
    "    if operator.row>4 or operator.row<0 or operator.col>5 or operator.col<0:\n",
    "        return 0\n",
    "    \n",
    "    if state.cell[operator.row][operator.col]!=BLANK:\n",
    "        return 0\n",
    "    \n",
    "    if previousMove.row==operator.row and previousMove.col==operator.col:\n",
    "        return 0\n",
    "    \n",
    "    if previousMove.row!=-1:\n",
    "        array=np.array(state.cell)\n",
    "        print(array)\n",
    "\n",
    "        prevRow=previousMove.row\n",
    "        prevCol=previousMove.col\n",
    "\n",
    "        decreaseRow=prevRow-1\n",
    "        increaseRow=prevRow+1\n",
    "        decreaseCol=prevCol-1\n",
    "        increaseCol=prevCol+1\n",
    "\n",
    "        neighbours=[[decreaseRow, decreaseCol], [decreaseRow, prevCol], [decreaseRow, increaseCol], [prevRow, decreaseCol], [prevRow, increaseCol],\n",
    "                   [increaseRow, decreaseCol], [increaseRow, prevCol], [increaseRow, increaseCol]]\n",
    "\n",
    "        if [operator.row, operator.col] not in neighbours:\n",
    "            return 1\n",
    "        else:\n",
    "            return 0\n",
    "        \n",
    "    return 1  \n",
    "    \n",
    "    \n",
    "isValidMove(current_State, testOp, USER_WHITE, testPrev)    "
   ]
  },
  {
   "cell_type": "code",
   "execution_count": 10,
   "id": "0de09c6b",
   "metadata": {},
   "outputs": [
    {
     "name": "stdout",
     "output_type": "stream",
     "text": [
      "--------------------------------\n",
      "|     |     |     |     |     |\n",
      "--------------------------------\n",
      "|     |     |     |     |     |\n",
      "--------------------------------\n",
      "|     |     |     |     |     |\n",
      "--------------------------------\n",
      "|     |     |     |     |     |\n",
      "--------------------------------\n",
      "|     |     |     |     |     |\n",
      "--------------------------------\n"
     ]
    }
   ],
   "source": [
    "print_State(current_State)"
   ]
  },
  {
   "cell_type": "code",
   "execution_count": 12,
   "id": "eaf2d318",
   "metadata": {},
   "outputs": [
    {
     "data": {
      "text/plain": [
       "'0'"
      ]
     },
     "execution_count": 12,
     "metadata": {},
     "output_type": "execute_result"
    }
   ],
   "source": [
    "current_State.cell[0][0]"
   ]
  },
  {
   "cell_type": "code",
   "execution_count": null,
   "id": "573d345b",
   "metadata": {},
   "outputs": [],
   "source": []
  }
 ],
 "metadata": {
  "kernelspec": {
   "display_name": "Python 3",
   "language": "python",
   "name": "python3"
  },
  "language_info": {
   "codemirror_mode": {
    "name": "ipython",
    "version": 3
   },
   "file_extension": ".py",
   "mimetype": "text/x-python",
   "name": "python",
   "nbconvert_exporter": "python",
   "pygments_lexer": "ipython3",
   "version": "3.8.7"
  }
 },
 "nbformat": 4,
 "nbformat_minor": 5
}
